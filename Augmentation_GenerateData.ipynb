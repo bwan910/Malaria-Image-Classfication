{
  "nbformat": 4,
  "nbformat_minor": 0,
  "metadata": {
    "colab": {
      "name": "Augmentation_GenerateData.ipynb",
      "provenance": []
    },
    "kernelspec": {
      "name": "python3",
      "display_name": "Python 3"
    },
    "language_info": {
      "name": "python"
    }
  },
  "cells": [
    {
      "cell_type": "code",
      "source": [
        "from google.colab import drive\n",
        "drive.mount('/content/drive')"
      ],
      "metadata": {
        "colab": {
          "base_uri": "https://localhost:8080/"
        },
        "id": "3ftve7Y4rS-K",
        "outputId": "f2f2bbcc-847a-469b-e09f-67b0bf72b034"
      },
      "execution_count": null,
      "outputs": [
        {
          "output_type": "stream",
          "name": "stdout",
          "text": [
            "Drive already mounted at /content/drive; to attempt to forcibly remount, call drive.mount(\"/content/drive\", force_remount=True).\n"
          ]
        }
      ]
    },
    {
      "cell_type": "code",
      "source": [
        "# convert image to array format\n",
        "#pic_array = img_to_array(pic)\n",
        "#pic_array"
      ],
      "metadata": {
        "id": "sDWz8JOAx869"
      },
      "execution_count": null,
      "outputs": []
    },
    {
      "cell_type": "code",
      "source": [
        "# convert to 4 dimensional array, this is required before using the ImageDataGenerator\n",
        "#pic_array = pic_array.reshape((1,)+ pic_array.shape)\n",
        "#pic_array.shape"
      ],
      "metadata": {
        "id": "8pMi8-ZNyG3-"
      },
      "execution_count": null,
      "outputs": []
    },
    {
      "cell_type": "markdown",
      "source": [
        "Reference: https://www.youtube.com/watch?v=Ahy50JCRYNk&ab_channel=BinodSumanAcademy\n",
        "\n",
        "https://blog.keras.io/building-powerful-image-classification-models-using-very-little-data.html "
      ],
      "metadata": {
        "id": "vVRJc9Cf2xXR"
      }
    },
    {
      "cell_type": "code",
      "source": [
        "import matplotlib.pyplot as plt\n",
        "from keras.preprocessing.image import ImageDataGenerator, load_img,array_to_img, img_to_array\n",
        "import cv2\n",
        "import pathlib\n"
      ],
      "metadata": {
        "id": "4GLQwjDz-XjO"
      },
      "execution_count": null,
      "outputs": []
    },
    {
      "cell_type": "code",
      "execution_count": null,
      "metadata": {
        "id": "tpfFLmA_qvn1"
      },
      "outputs": [],
      "source": [
        "data_dir = (\"/content/drive/MyDrive/Deep_Learning_Tutorials/Image Processing/Train with custom dataset/Malaria Classfication/Malaria\")"
      ]
    },
    {
      "cell_type": "code",
      "source": [
        "data_dir = pathlib.Path(data_dir)\n",
        "data_dir"
      ],
      "metadata": {
        "colab": {
          "base_uri": "https://localhost:8080/"
        },
        "id": "5S_FFDaJrU3Q",
        "outputId": "cfc8298d-ebde-4330-b13f-86839bdf94be"
      },
      "execution_count": null,
      "outputs": [
        {
          "output_type": "execute_result",
          "data": {
            "text/plain": [
              "PosixPath('/content/drive/MyDrive/Deep_Learning_Tutorials/Image Processing/Train with custom dataset/Malaria Classfication/Malaria')"
            ]
          },
          "metadata": {},
          "execution_count": 49
        }
      ]
    },
    {
      "cell_type": "code",
      "source": [
        "parasite_img = list(data_dir.glob('Parasite/*'))\n",
        "parasite_img[:10]"
      ],
      "metadata": {
        "colab": {
          "base_uri": "https://localhost:8080/"
        },
        "id": "H7D0IN8v3gi0",
        "outputId": "43ae9f7e-ec8c-48ef-836b-101055d2ab65"
      },
      "execution_count": null,
      "outputs": [
        {
          "output_type": "execute_result",
          "data": {
            "text/plain": [
              "[PosixPath('/content/drive/MyDrive/Deep_Learning_Tutorials/Image Processing/Train with custom dataset/Malaria Classfication/Malaria/Parasite/C133P94ThinF_IMG_20151004_155721_cell_121.png'),\n",
              " PosixPath('/content/drive/MyDrive/Deep_Learning_Tutorials/Image Processing/Train with custom dataset/Malaria Classfication/Malaria/Parasite/C133P94ThinF_IMG_20151004_155721_cell_113.png'),\n",
              " PosixPath('/content/drive/MyDrive/Deep_Learning_Tutorials/Image Processing/Train with custom dataset/Malaria Classfication/Malaria/Parasite/C133P94ThinF_IMG_20151004_155721_cell_122.png'),\n",
              " PosixPath('/content/drive/MyDrive/Deep_Learning_Tutorials/Image Processing/Train with custom dataset/Malaria Classfication/Malaria/Parasite/C133P94ThinF_IMG_20151004_155912_cell_13.png'),\n",
              " PosixPath('/content/drive/MyDrive/Deep_Learning_Tutorials/Image Processing/Train with custom dataset/Malaria Classfication/Malaria/Parasite/C133P94ThinF_IMG_20151004_155912_cell_1.png'),\n",
              " PosixPath('/content/drive/MyDrive/Deep_Learning_Tutorials/Image Processing/Train with custom dataset/Malaria Classfication/Malaria/Parasite/C133P94ThinF_IMG_20151004_155721_cell_116.png'),\n",
              " PosixPath('/content/drive/MyDrive/Deep_Learning_Tutorials/Image Processing/Train with custom dataset/Malaria Classfication/Malaria/Parasite/C133P94ThinF_IMG_20151004_155721_cell_114.png'),\n",
              " PosixPath('/content/drive/MyDrive/Deep_Learning_Tutorials/Image Processing/Train with custom dataset/Malaria Classfication/Malaria/Parasite/C133P94ThinF_IMG_20151004_155912_cell_17.png'),\n",
              " PosixPath('/content/drive/MyDrive/Deep_Learning_Tutorials/Image Processing/Train with custom dataset/Malaria Classfication/Malaria/Parasite/C133P94ThinF_IMG_20151004_155912_cell_10.png'),\n",
              " PosixPath('/content/drive/MyDrive/Deep_Learning_Tutorials/Image Processing/Train with custom dataset/Malaria Classfication/Malaria/Parasite/C133P94ThinF_IMG_20151004_155721_cell_115.png')]"
            ]
          },
          "metadata": {},
          "execution_count": 51
        }
      ]
    },
    {
      "cell_type": "code",
      "source": [
        "Uninfected_img = list(data_dir.glob('Uninfected/*'))\n",
        "Uninfected_img[:10]"
      ],
      "metadata": {
        "colab": {
          "base_uri": "https://localhost:8080/"
        },
        "id": "qZBT1Q_mu2kV",
        "outputId": "68fd4809-853c-496e-c24e-14218edd3387"
      },
      "execution_count": null,
      "outputs": [
        {
          "output_type": "execute_result",
          "data": {
            "text/plain": [
              "[PosixPath('/content/drive/MyDrive/Deep_Learning_Tutorials/Image Processing/Train with custom dataset/Malaria Classfication/Malaria/Uninfected/C1_thinF_IMG_20150604_104942_cell_218.png'),\n",
              " PosixPath('/content/drive/MyDrive/Deep_Learning_Tutorials/Image Processing/Train with custom dataset/Malaria Classfication/Malaria/Uninfected/C241NThinF_IMG_20151207_124608_cell_51.png'),\n",
              " PosixPath('/content/drive/MyDrive/Deep_Learning_Tutorials/Image Processing/Train with custom dataset/Malaria Classfication/Malaria/Uninfected/C1_thinF_IMG_20150604_104722_cell_9.png'),\n",
              " PosixPath('/content/drive/MyDrive/Deep_Learning_Tutorials/Image Processing/Train with custom dataset/Malaria Classfication/Malaria/Uninfected/C1_thinF_IMG_20150604_104942_cell_269.png'),\n",
              " PosixPath('/content/drive/MyDrive/Deep_Learning_Tutorials/Image Processing/Train with custom dataset/Malaria Classfication/Malaria/Uninfected/C1_thinF_IMG_20150604_104722_cell_66.png'),\n",
              " PosixPath('/content/drive/MyDrive/Deep_Learning_Tutorials/Image Processing/Train with custom dataset/Malaria Classfication/Malaria/Uninfected/C2NThinF_IMG_20150604_114815_cell_66.png'),\n",
              " PosixPath('/content/drive/MyDrive/Deep_Learning_Tutorials/Image Processing/Train with custom dataset/Malaria Classfication/Malaria/Uninfected/C1_thinF_IMG_20150604_105100_cell_275.png'),\n",
              " PosixPath('/content/drive/MyDrive/Deep_Learning_Tutorials/Image Processing/Train with custom dataset/Malaria Classfication/Malaria/Uninfected/C2NThinF_IMG_20150604_114751_cell_113.png'),\n",
              " PosixPath('/content/drive/MyDrive/Deep_Learning_Tutorials/Image Processing/Train with custom dataset/Malaria Classfication/Malaria/Uninfected/C241NThinF_IMG_20151207_124643_cell_45.png'),\n",
              " PosixPath('/content/drive/MyDrive/Deep_Learning_Tutorials/Image Processing/Train with custom dataset/Malaria Classfication/Malaria/Uninfected/C3thin_original_IMG_20150608_163029_cell_156.png')]"
            ]
          },
          "metadata": {},
          "execution_count": 52
        }
      ]
    },
    {
      "cell_type": "code",
      "source": [
        "# Generating data parameters\n",
        "datagen = ImageDataGenerator(\n",
        "        rotation_range=40,\n",
        "        width_shift_range=0.2,\n",
        "        height_shift_range=0.2,\n",
        "        shear_range=0.2,\n",
        "        zoom_range=0.2,\n",
        "        horizontal_flip=True,\n",
        "        fill_mode='nearest'\n",
        ")"
      ],
      "metadata": {
        "id": "QYdvQpRZxr4T"
      },
      "execution_count": null,
      "outputs": []
    },
    {
      "cell_type": "code",
      "source": [
        "# Preprocess Image\n",
        "\n",
        "img_4_dim = []  #empty array to store the new 4 dimensional shape of images\n",
        "\n",
        "for x in parasite_img[:170]: #loop through the image path and perform converting\n",
        "    pic = load_img(x)       #load img in\n",
        "    pic_array = img_to_array(pic)   # convert image to array format\n",
        "\n",
        "    convert_4_dim = pic_array.reshape((1,)+ pic_array.shape) # convert to 4 dimensional array, this is required before using the ImageDataGenerator\n",
        "\n",
        "    img_4_dim.append(convert_4_dim)     #append all converted image shape to the empty array\n",
        "    #print(convert_4_dim.shape)\n",
        "    "
      ],
      "metadata": {
        "id": "N1IGUj4U6_z7"
      },
      "execution_count": null,
      "outputs": []
    },
    {
      "cell_type": "code",
      "source": [
        "# Generating the images\n",
        "\n",
        "save_img_dir = '/content/drive/MyDrive/Deep_Learning_Tutorials/Image Processing/Train with custom dataset/Malaria Classfication/Malaria/Parasite'\n",
        "count = 0\n",
        "# the .flow() command below generates batches of randomly augmented images\n",
        "for y in img_4_dim:\n",
        "    for batch in datagen.flow(y, batch_size=1, save_to_dir=save_img_dir,save_prefix='Parasite',save_format='png'):\n",
        "        count +=1\n",
        "        if count > 169:\n",
        "            break #otherwise the generator would loop infinity\n",
        "\n"
      ],
      "metadata": {
        "id": "P1Qrw4IerWoR"
      },
      "execution_count": null,
      "outputs": []
    },
    {
      "cell_type": "code",
      "source": [
        ""
      ],
      "metadata": {
        "id": "z90W3d0qvSGW"
      },
      "execution_count": null,
      "outputs": []
    }
  ]
}